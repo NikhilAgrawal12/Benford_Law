{
 "cells": [
  {
   "cell_type": "markdown",
   "id": "ace5dc46-328c-4e88-a86a-9f2aeed59308",
   "metadata": {},
   "source": [
    "# 1"
   ]
  },
  {
   "cell_type": "code",
   "execution_count": 1,
   "id": "8c6a02df-07a6-402c-954b-14b0949c6fd6",
   "metadata": {},
   "outputs": [],
   "source": [
    "import pandas as pd"
   ]
  },
  {
   "cell_type": "code",
   "execution_count": 3,
   "id": "79d2cc02-2731-4f4e-a7c7-8a9346649ab4",
   "metadata": {},
   "outputs": [],
   "source": [
    "df = pd.read_csv(\"nordstrom product data.csv\", low_memory=False)"
   ]
  },
  {
   "cell_type": "markdown",
   "id": "12d3c4a5-4e2f-42f0-b810-7c64f4ce92a9",
   "metadata": {},
   "source": [
    "# 2"
   ]
  },
  {
   "cell_type": "code",
   "execution_count": 6,
   "id": "cabdd195-a945-4125-84fe-93a4bcc6f554",
   "metadata": {},
   "outputs": [
    {
     "name": "stdout",
     "output_type": "stream",
     "text": [
      "Number of categories: 7\n"
     ]
    }
   ],
   "source": [
    "# Q2: Number of unique categories\n",
    "categories = df['CATEGORY'].unique()\n",
    "num_categories = len(categories)\n",
    "\n",
    "print(f\"Number of categories: {num_categories}\")\n"
   ]
  },
  {
   "cell_type": "markdown",
   "id": "542c42b6-6a66-40ea-910f-9b0d30982170",
   "metadata": {},
   "source": [
    "# 3"
   ]
  },
  {
   "cell_type": "code",
   "execution_count": 9,
   "id": "48a386e7-4194-45de-9265-2d1b68ae96e7",
   "metadata": {},
   "outputs": [
    {
     "name": "stdout",
     "output_type": "stream",
     "text": [
      "Category with the most subcategories: Clothing with 17 subcategories.\n",
      "\n",
      "Subcategories: ['Blazers, Suits & Separates' 'Activewear' 'Bodysuits'\n",
      " 'Lingerie, Hosiery & Shapewear' 'Coats & Jackets' 'Jeans & Denim'\n",
      " 'Shorts' 'Loungewear' 'Jumpsuits & Rompers' 'Pants & Leggings' 'Skirts'\n",
      " 'Sweaters' 'Sweatshirts & Hoodies' 'Sleepwear & Robes'\n",
      " 'Swimsuits & Cover-Ups' 'Dresses' 'Tops']\n",
      "\n",
      "Category with the fewest subcategories: New Arrivals with 6 subcategories.\n",
      "\n",
      "Subcategories: ['Shoes' 'Accessories' 'Handbags & Wallets' 'Beauty' 'Clothing' 'Jewelry']\n"
     ]
    }
   ],
   "source": [
    "# Q3: Category with the most and fewest subcategories\n",
    "subcategories_by_category = df.groupby('CATEGORY')['SUBCATEGORY'].nunique()\n",
    "\n",
    "# Category with the most subcategories\n",
    "category_most_subcategories = subcategories_by_category.idxmax()\n",
    "most_subcategories = subcategories_by_category.max()\n",
    "\n",
    "# Category with the fewest subcategories\n",
    "category_fewest_subcategories = subcategories_by_category.idxmin()\n",
    "fewest_subcategories = subcategories_by_category.min()\n",
    "\n",
    "# List of subcategories for both cases\n",
    "subcategories_most = df[df['CATEGORY'] == category_most_subcategories]['SUBCATEGORY'].unique()\n",
    "subcategories_fewest = df[df['CATEGORY'] == category_fewest_subcategories]['SUBCATEGORY'].unique()\n",
    "\n",
    "print(f\"Category with the most subcategories: {category_most_subcategories} with {most_subcategories} subcategories.\")\n",
    "print(f\"\\nSubcategories: {subcategories_most}\\n\")\n",
    "\n",
    "print(f\"Category with the fewest subcategories: {category_fewest_subcategories} with {fewest_subcategories} subcategories.\")\n",
    "print(f\"\\nSubcategories: {subcategories_fewest}\")\n"
   ]
  },
  {
   "cell_type": "markdown",
   "id": "af009a99-1751-4d70-bcb4-259a4932263b",
   "metadata": {},
   "source": [
    "# 4"
   ]
  },
  {
   "cell_type": "code",
   "execution_count": 11,
   "id": "ef51a707-c58f-45b0-aceb-1da4ac1d5926",
   "metadata": {},
   "outputs": [
    {
     "name": "stdout",
     "output_type": "stream",
     "text": [
      "              median         mean\n",
      "CATEGORY                         \n",
      "Accessories    198.0   661.102010\n",
      "Clothing        89.0   215.042551\n",
      "Handbags       698.0  1017.721767\n",
      "Jewelry        325.0  1003.327448\n",
      "Maternity       68.0    82.381425\n",
      "New Arrivals    89.0   258.012151\n",
      "Shoes          130.0   185.105339\n"
     ]
    }
   ],
   "source": [
    "# Q4: Median and average price for products in each category\n",
    "price_stats = df.groupby('CATEGORY')['PRICE_RETAIL'].agg(['median', 'mean'])\n",
    "\n",
    "print(price_stats)\n"
   ]
  },
  {
   "cell_type": "markdown",
   "id": "703e8737-9b87-40be-9987-a7669888a882",
   "metadata": {},
   "source": [
    "# 5"
   ]
  },
  {
   "cell_type": "code",
   "execution_count": 13,
   "id": "02f25150-cc74-4dcc-9b90-078a996c6b99",
   "metadata": {},
   "outputs": [
    {
     "data": {
      "image/png": "[encoded data removed]",
      "text/plain": [
       "<Figure size 1200x600 with 3 Axes>"
      ]
     },
     "metadata": {},
     "output_type": "display_data"
    }
   ],
   "source": [
    "import matplotlib.pyplot as plt\n",
    "import numpy as np\n",
    "\n",
    "# Assuming df is loaded\n",
    "\n",
    "# Extract the leading digit\n",
    "def leading_digit(number):\n",
    "    return int(str(number).lstrip('0.')[0])\n",
    "\n",
    "# Real distribution of leading digits\n",
    "df['LeadingDigit'] = df['PRICE_RETAIL'].dropna().apply(leading_digit)\n",
    "real_distribution = df['LeadingDigit'].value_counts(normalize=True).sort_index()\n",
    "\n",
    "# Equal-weight distribution (1/9 for each digit)\n",
    "equal_weight = np.full(9, 1/9)\n",
    "\n",
    "# Benford's Law distribution\n",
    "benford = np.array([np.log10(1 + 1/d) for d in range(1, 10)])\n",
    "\n",
    "# Get the maximum y-axis value to ensure the same y-axis for all plots\n",
    "max_y = max(real_distribution.values.max(), equal_weight.max(), benford.max())\n",
    "\n",
    "# Plot histograms\n",
    "plt.figure(figsize=(12, 6))\n",
    "\n",
    "# Real distribution\n",
    "plt.subplot(1, 3, 1)\n",
    "plt.bar(real_distribution.index, real_distribution.values)\n",
    "plt.ylim(0, max_y)  # Set the same y-axis limit\n",
    "plt.title('Real Distribution')\n",
    "\n",
    "# Equal-weight distribution\n",
    "plt.subplot(1, 3, 2)\n",
    "plt.bar(range(1, 10), equal_weight)\n",
    "plt.ylim(0, max_y)  # Set the same y-axis limit\n",
    "plt.title('Equal-Weight Distribution')\n",
    "\n",
    "# Benford's Law distribution\n",
    "plt.subplot(1, 3, 3)\n",
    "plt.bar(range(1, 10), benford)\n",
    "plt.ylim(0, max_y)  # Set the same y-axis limit\n",
    "plt.title('Benford\\'s Law Distribution')\n",
    "\n",
    "# Adjust the layout to avoid overlap\n",
    "plt.tight_layout()\n",
    "plt.savefig('q5.png', dpi=100)\n",
    "plt.show()\n"
   ]
  },
  {
   "cell_type": "markdown",
   "id": "03c65478-f6cf-485d-b36f-e5b507c69ac9",
   "metadata": {},
   "source": [
    "# 6"
   ]
  },
  {
   "cell_type": "code",
   "execution_count": 15,
   "id": "eb71667d-ace0-4ac0-8f4d-e29e15f12f4d",
   "metadata": {},
   "outputs": [
    {
     "data": {
      "image/png": "[encoded data removed]",
      "text/plain": [
       "<Figure size 1200x600 with 2 Axes>"
      ]
     },
     "metadata": {},
     "output_type": "display_data"
    }
   ],
   "source": [
    "# Compute real frequencies\n",
    "real_freq = real_distribution.values\n",
    "\n",
    "# Relative error for equal-weight model\n",
    "relative_error_model1 = np.abs(real_freq - equal_weight) / equal_weight\n",
    "\n",
    "# Relative error for Benford's Law model\n",
    "relative_error_model2 = np.abs(real_freq - benford) / benford\n",
    "\n",
    "# Get the maximum y-axis value to ensure the same y-axis for both plots\n",
    "max_y = max(relative_error_model1.max(), relative_error_model2.max())\n",
    "\n",
    "# Plot histograms\n",
    "plt.figure(figsize=(12, 6))\n",
    "\n",
    "# Relative error for Model 1 (Equal-Weight)\n",
    "plt.subplot(1, 2, 1)\n",
    "plt.bar(range(1, 10), relative_error_model1)\n",
    "plt.ylim(0, max_y)  # Set the same y-axis limit\n",
    "plt.title('Relative Error for Equal-Weight Model')\n",
    "\n",
    "# Relative error for Model 2 (Benford)\n",
    "plt.subplot(1, 2, 2)\n",
    "plt.bar(range(1, 10), relative_error_model2)\n",
    "plt.ylim(0, max_y)  # Set the same y-axis limit\n",
    "plt.title('Relative Error for Benford\\'s Law Model')\n",
    "\n",
    "# Adjust the layout to avoid overlap\n",
    "plt.tight_layout()\n",
    "plt.savefig('q6.png', dpi=100)\n",
    "plt.show()\n"
   ]
  },
  {
   "cell_type": "markdown",
   "id": "b14e82b3-c54e-4e1c-993b-07a433864a16",
   "metadata": {},
   "source": [
    "# 7"
   ]
  },
  {
   "cell_type": "code",
   "execution_count": 19,
   "id": "03174007-8757-4039-b628-9bba59034932",
   "metadata": {},
   "outputs": [
    {
     "name": "stdout",
     "output_type": "stream",
     "text": [
      "RMSE for Model 1 (Equal-Weight): 0.08123870719088272\n",
      "RMSE for Model 2 (Benford's Law): 0.024099504224252825\n"
     ]
    }
   ],
   "source": [
    "def rmse(model):\n",
    "    return np.sqrt(np.mean((real_freq - model)**2))\n",
    "\n",
    "# RMSE for Model 1 (Equal-Weight)\n",
    "rmse_model1 = rmse(equal_weight)\n",
    "\n",
    "# RMSE for Model 2 (Benford's Law)\n",
    "rmse_model2 = rmse(benford)\n",
    "\n",
    "print(f\"RMSE for Model 1 (Equal-Weight): {rmse_model1}\")\n",
    "print(f\"RMSE for Model 2 (Benford's Law): {rmse_model2}\")\n",
    "\n",
    "#The RMSE (Root Mean Squared Error) results indicate that Model 2 (Benford's Law) is a better fit for the real distribution of leading digits than Model 1 (Equal-Weight)."
   ]
  },
  {
   "cell_type": "markdown",
   "id": "f624aa30-3c91-451f-947a-e76ecc4e7e2a",
   "metadata": {},
   "source": [
    "# 8"
   ]
  },
  {
   "cell_type": "code",
   "execution_count": 47,
   "id": "fc2f30bc-4cd2-4f32-b4db-939782b10f28",
   "metadata": {},
   "outputs": [
    {
     "name": "stdout",
     "output_type": "stream",
     "text": [
      "Category: Shoes\n",
      "  RMSE for Equal-Weight Model: 0.151068\n",
      "  RMSE for Benford's Law Model: 0.094585\n",
      "----------------------------------------\n",
      "Category: Handbags\n",
      "  RMSE for Equal-Weight Model: 0.092501\n",
      "  RMSE for Benford's Law Model: 0.017991\n",
      "----------------------------------------\n",
      "Category: Jewelry\n",
      "  RMSE for Equal-Weight Model: 0.062386\n",
      "  RMSE for Benford's Law Model: 0.025610\n",
      "----------------------------------------\n",
      "The category closest to the equal-weight distribution (P) is: Jewelry\n",
      "  RMSE for Equal-Weight Model: 0.062386\n"
     ]
    }
   ],
   "source": [
    "import numpy as np\n",
    "import pandas as pd\n",
    "\n",
    "# Assuming 'df' is already loaded and contains the dataset\n",
    "\n",
    "# Function to extract leading digit\n",
    "def leading_digit(number):\n",
    "    return int(str(number).lstrip('0.')[0])\n",
    "\n",
    "# Define three categories of choice\n",
    "chosen_categories = ['Shoes', 'Handbags', 'Jewelry']\n",
    "\n",
    "# Define the equal-weight and Benford's Law distributions\n",
    "P = np.full(9, 1/9)  # Equal-weight distribution\n",
    "π = np.array([np.log10(1 + 1/d) for d in range(1, 10)])  # Benford's Law distribution\n",
    "\n",
    "# Initialize dictionary to store RMSE results\n",
    "rmse_results = {}\n",
    "\n",
    "# For each chosen category, compute F (real distribution), P (equal-weight), and π (Benford's Law)\n",
    "for category in chosen_categories:\n",
    "    # Filter data for the chosen category and extract the leading digits from PRICE_RETAIL\n",
    "    category_prices = df[df['CATEGORY'] == category]['PRICE_RETAIL'].dropna()\n",
    "    category_digits = category_prices.apply(leading_digit)\n",
    "    \n",
    "    # F: Real distribution of leading digits\n",
    "    F = category_digits.value_counts(normalize=True).sort_index()\n",
    "    \n",
    "    # Compute RMSE for Equal-Weight (P) and Benford's Law (π)\n",
    "    rmse_p = np.sqrt(np.mean((F - P[:len(F)])**2))\n",
    "    rmse_b = np.sqrt(np.mean((F - π[:len(F)])**2))\n",
    "    \n",
    "    # Store RMSE results for both models\n",
    "    rmse_results[category] = {\"RMSE for Equal-Weight\": rmse_p, \"RMSE for Benford\": rmse_b}\n",
    "\n",
    "# Print the RMSE results\n",
    "for category, rmse_values in rmse_results.items():\n",
    "    print(f\"Category: {category}\")\n",
    "    print(f\"  RMSE for Equal-Weight Model: {rmse_values['RMSE for Equal-Weight']:.6f}\")\n",
    "    print(f\"  RMSE for Benford's Law Model: {rmse_values['RMSE for Benford']:.6f}\")\n",
    "    print(\"-\" * 40)\n",
    "\n",
    "# Part b: Find which category is closest to equal weight (P) using RMSE\n",
    "closest_category_to_P = min(rmse_results, key=lambda category: rmse_results[category]['RMSE for Equal-Weight'])\n",
    "\n",
    "# Output the result\n",
    "print(f\"The category closest to the equal-weight distribution (P) is: {closest_category_to_P}\")\n",
    "print(f\"  RMSE for Equal-Weight Model: {rmse_results[closest_category_to_P]['RMSE for Equal-Weight']:.6f}\")\n"
   ]
  },
  {
   "cell_type": "markdown",
   "id": "a6ef9f21-ef5f-4f67-8754-0cc6aac260c3",
   "metadata": {},
   "source": [
    "# 9"
   ]
  },
  {
   "cell_type": "markdown",
   "id": "f262520e-f56e-40d9-a53b-51050190d0ff",
   "metadata": {},
   "source": [
    "1. **Relative Errors:**\n",
    "\n",
    "   The Relative Error for the Equal-Weight Model is significantly larger, especially for the leading digit \"1\". This is because the equal-weight model assumes that every digit should appear with the same frequency, which contradicts real-world patterns where lower digits (like 1 and 2) tend to occur more frequently.  \n",
    "   The Relative Error for Benford’s Law is much smaller, indicating that it more accurately captures the distribution of the leading digits, particularly the dominance of \"1\" as the leading digit in real-world data.\n",
    "\n",
    "2. **Comparison Between Models:**\n",
    "\n",
    "   - **RMSE for Equal-Weight Model**: 0.0812  \n",
    "   - **RMSE for Benford’s Law Model**: 0.0241  \n",
    "\n",
    "   This shows that Benford’s Law (Model 2) provides a much better fit for the leading digit distribution in the dataset compared to the Equal-Weight Model (Model 1). The lower RMSE value for Benford’s Law indicates a smaller deviation from the actual distribution of leading digits, which is expected since Benford’s Law often applies to real-world data that spans multiple orders of magnitude.\n",
    "\n",
    "3. **Per-Category Analysis:**\n",
    "\n",
    "   a) **Shoes**: The RMSE for Benford’s Law (0.0946) is lower than the RMSE for the Equal-Weight Model (0.1511), indicating a closer fit to Benford's Law.  \n",
    "   b) **Handbags**: The Benford’s Law Model (0.0180) performs significantly better than the Equal-Weight Model (0.0925).  \n",
    "   c) **Jewelry**: This category is closest to the Equal-Weight Model (0.0624 RMSE), but even here, Benford’s Law provides a better fit (0.0256 RMSE).\n",
    "\n",
    "Benford’s Law is a significantly better model for predicting the distribution of leading digits in the data, as demonstrated by the lower RMSE values across all categories.  \n",
    "While the Equal-Weight Model does have one category (Jewelry) that is somewhat closer, it is still outperformed by Benford’s Law.  \n",
    "The distribution of prices in the dataset seems to follow a logarithmic pattern, where smaller leading digits are far more common than larger ones."
   ]
  },
  {
   "cell_type": "code",
   "execution_count": null,
   "id": "fc9edeca-7527-43d9-87a5-caa94e4bf98f",
   "metadata": {},
   "outputs": [],
   "source": []
  }
 ],
 "metadata": {
  "kernelspec": {
   "display_name": "Python 3 (ipykernel)",
   "language": "python",
   "name": "python3"
  },
  "language_info": {
   "codemirror_mode": {
    "name": "ipython",
    "version": 3
   },
   "file_extension": ".py",
   "mimetype": "text/x-python",
   "name": "python",
   "nbconvert_exporter": "python",
   "pygments_lexer": "ipython3",
   "version": "3.12.4"
  }
 },
 "nbformat": 4,
 "nbformat_minor": 5
}
